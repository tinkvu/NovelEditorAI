{
  "nbformat": 4,
  "nbformat_minor": 0,
  "metadata": {
    "colab": {
      "provenance": [],
      "authorship_tag": "ABX9TyNpHKC/6Wp76wdH1//sRQuD",
      "include_colab_link": true
    },
    "kernelspec": {
      "name": "python3",
      "display_name": "Python 3"
    },
    "language_info": {
      "name": "python"
    }
  },
  "cells": [
    {
      "cell_type": "markdown",
      "metadata": {
        "id": "view-in-github",
        "colab_type": "text"
      },
      "source": [
        "<a href=\"https://colab.research.google.com/github/ihashirjadoon/llama3-hackathon/blob/main/Notebooks/Llama_Retrieval.ipynb\" target=\"_parent\"><img src=\"https://colab.research.google.com/assets/colab-badge.svg\" alt=\"Open In Colab\"/></a>"
      ]
    },
    {
      "cell_type": "code",
      "source": [
        "!pip install together"
      ],
      "metadata": {
        "colab": {
          "base_uri": "https://localhost:8080/",
          "height": 877
        },
        "collapsed": true,
        "id": "7u-uqENgnKGZ",
        "outputId": "d874502f-ea7b-4445-9a25-31d8c37cb588"
      },
      "execution_count": 1,
      "outputs": [
        {
          "output_type": "stream",
          "name": "stdout",
          "text": [
            "Collecting together\n",
            "  Downloading together-1.2.2-py3-none-any.whl (61 kB)\n",
            "\u001b[2K     \u001b[90m━━━━━━━━━━━━━━━━━━━━━━━━━━━━━━━━━━━━━━━━\u001b[0m \u001b[32m61.4/61.4 kB\u001b[0m \u001b[31m1.1 MB/s\u001b[0m eta \u001b[36m0:00:00\u001b[0m\n",
            "\u001b[?25hRequirement already satisfied: aiohttp<4.0.0,>=3.9.3 in /usr/local/lib/python3.10/dist-packages (from together) (3.9.5)\n",
            "Requirement already satisfied: click<9.0.0,>=8.1.7 in /usr/local/lib/python3.10/dist-packages (from together) (8.1.7)\n",
            "Collecting eval-type-backport<0.3.0,>=0.1.3 (from together)\n",
            "  Downloading eval_type_backport-0.2.0-py3-none-any.whl (5.9 kB)\n",
            "Requirement already satisfied: filelock<4.0.0,>=3.13.1 in /usr/local/lib/python3.10/dist-packages (from together) (3.15.4)\n",
            "Requirement already satisfied: numpy>=1.23.5 in /usr/local/lib/python3.10/dist-packages (from together) (1.25.2)\n",
            "Collecting pillow<11.0.0,>=10.3.0 (from together)\n",
            "  Downloading pillow-10.4.0-cp310-cp310-manylinux_2_28_x86_64.whl (4.5 MB)\n",
            "\u001b[2K     \u001b[90m━━━━━━━━━━━━━━━━━━━━━━━━━━━━━━━━━━━━━━━━\u001b[0m \u001b[32m4.5/4.5 MB\u001b[0m \u001b[31m10.9 MB/s\u001b[0m eta \u001b[36m0:00:00\u001b[0m\n",
            "\u001b[?25hRequirement already satisfied: pyarrow>=10.0.1 in /usr/local/lib/python3.10/dist-packages (from together) (14.0.2)\n",
            "Requirement already satisfied: pydantic<3.0.0,>=2.6.3 in /usr/local/lib/python3.10/dist-packages (from together) (2.8.2)\n",
            "Requirement already satisfied: requests<3.0.0,>=2.31.0 in /usr/local/lib/python3.10/dist-packages (from together) (2.31.0)\n",
            "Requirement already satisfied: tabulate<0.10.0,>=0.9.0 in /usr/local/lib/python3.10/dist-packages (from together) (0.9.0)\n",
            "Requirement already satisfied: tqdm<5.0.0,>=4.66.2 in /usr/local/lib/python3.10/dist-packages (from together) (4.66.4)\n",
            "Requirement already satisfied: typer<0.13,>=0.9 in /usr/local/lib/python3.10/dist-packages (from together) (0.12.3)\n",
            "Requirement already satisfied: aiosignal>=1.1.2 in /usr/local/lib/python3.10/dist-packages (from aiohttp<4.0.0,>=3.9.3->together) (1.3.1)\n",
            "Requirement already satisfied: attrs>=17.3.0 in /usr/local/lib/python3.10/dist-packages (from aiohttp<4.0.0,>=3.9.3->together) (23.2.0)\n",
            "Requirement already satisfied: frozenlist>=1.1.1 in /usr/local/lib/python3.10/dist-packages (from aiohttp<4.0.0,>=3.9.3->together) (1.4.1)\n",
            "Requirement already satisfied: multidict<7.0,>=4.5 in /usr/local/lib/python3.10/dist-packages (from aiohttp<4.0.0,>=3.9.3->together) (6.0.5)\n",
            "Requirement already satisfied: yarl<2.0,>=1.0 in /usr/local/lib/python3.10/dist-packages (from aiohttp<4.0.0,>=3.9.3->together) (1.9.4)\n",
            "Requirement already satisfied: async-timeout<5.0,>=4.0 in /usr/local/lib/python3.10/dist-packages (from aiohttp<4.0.0,>=3.9.3->together) (4.0.3)\n",
            "Requirement already satisfied: annotated-types>=0.4.0 in /usr/local/lib/python3.10/dist-packages (from pydantic<3.0.0,>=2.6.3->together) (0.7.0)\n",
            "Requirement already satisfied: pydantic-core==2.20.1 in /usr/local/lib/python3.10/dist-packages (from pydantic<3.0.0,>=2.6.3->together) (2.20.1)\n",
            "Requirement already satisfied: typing-extensions>=4.6.1 in /usr/local/lib/python3.10/dist-packages (from pydantic<3.0.0,>=2.6.3->together) (4.12.2)\n",
            "Requirement already satisfied: charset-normalizer<4,>=2 in /usr/local/lib/python3.10/dist-packages (from requests<3.0.0,>=2.31.0->together) (3.3.2)\n",
            "Requirement already satisfied: idna<4,>=2.5 in /usr/local/lib/python3.10/dist-packages (from requests<3.0.0,>=2.31.0->together) (3.7)\n",
            "Requirement already satisfied: urllib3<3,>=1.21.1 in /usr/local/lib/python3.10/dist-packages (from requests<3.0.0,>=2.31.0->together) (2.0.7)\n",
            "Requirement already satisfied: certifi>=2017.4.17 in /usr/local/lib/python3.10/dist-packages (from requests<3.0.0,>=2.31.0->together) (2024.7.4)\n",
            "Requirement already satisfied: shellingham>=1.3.0 in /usr/local/lib/python3.10/dist-packages (from typer<0.13,>=0.9->together) (1.5.4)\n",
            "Requirement already satisfied: rich>=10.11.0 in /usr/local/lib/python3.10/dist-packages (from typer<0.13,>=0.9->together) (13.7.1)\n",
            "Requirement already satisfied: markdown-it-py>=2.2.0 in /usr/local/lib/python3.10/dist-packages (from rich>=10.11.0->typer<0.13,>=0.9->together) (3.0.0)\n",
            "Requirement already satisfied: pygments<3.0.0,>=2.13.0 in /usr/local/lib/python3.10/dist-packages (from rich>=10.11.0->typer<0.13,>=0.9->together) (2.16.1)\n",
            "Requirement already satisfied: mdurl~=0.1 in /usr/local/lib/python3.10/dist-packages (from markdown-it-py>=2.2.0->rich>=10.11.0->typer<0.13,>=0.9->together) (0.1.2)\n",
            "Installing collected packages: pillow, eval-type-backport, together\n",
            "  Attempting uninstall: pillow\n",
            "    Found existing installation: Pillow 9.4.0\n",
            "    Uninstalling Pillow-9.4.0:\n",
            "      Successfully uninstalled Pillow-9.4.0\n",
            "\u001b[31mERROR: pip's dependency resolver does not currently take into account all the packages that are installed. This behaviour is the source of the following dependency conflicts.\n",
            "imageio 2.31.6 requires pillow<10.1.0,>=8.3.2, but you have pillow 10.4.0 which is incompatible.\u001b[0m\u001b[31m\n",
            "\u001b[0mSuccessfully installed eval-type-backport-0.2.0 pillow-10.4.0 together-1.2.2\n"
          ]
        },
        {
          "output_type": "display_data",
          "data": {
            "application/vnd.colab-display-data+json": {
              "pip_warning": {
                "packages": [
                  "PIL"
                ]
              },
              "id": "804258d3bcbb4d3298581f099e6f3e00"
            }
          },
          "metadata": {}
        }
      ]
    },
    {
      "cell_type": "markdown",
      "source": [
        "#Get API Keys and add them before running\n"
      ],
      "metadata": {
        "id": "moe_hstgONWD"
      }
    },
    {
      "cell_type": "code",
      "source": [
        "import os\n",
        "from together import Together\n",
        "from google.colab import userdata\n",
        "import re\n",
        "import json\n",
        "# Import necessary libraries\n",
        "import google.generativeai as genai\n",
        "\n",
        "\n",
        "#Add API Keys before running\n",
        "genaiAPI = \"\"\n",
        "client = Together(api_key='')"
      ],
      "metadata": {
        "id": "wPQr0S2ww5Xu"
      },
      "execution_count": 80,
      "outputs": []
    },
    {
      "cell_type": "markdown",
      "source": [
        "#Inputs from Frontend\n",
        "\n",
        "1. Book Type : book_type (Novel, Short story or anything)\n",
        "2. Title in Mind : book_title\n",
        "3. Input Data: entire_input_data (I am using some paragraphs from a book for trial run)"
      ],
      "metadata": {
        "id": "0F4Z9DDZOc_V"
      }
    },
    {
      "cell_type": "code",
      "source": [
        "# Get user input for the type of book and title\n",
        "book_type = input(\"Enter the type of book (e.g., novel, short story, etc.): \")\n",
        "book_title= input(\"Enter the title in your mind: \")"
      ],
      "metadata": {
        "colab": {
          "base_uri": "https://localhost:8080/"
        },
        "id": "pcBol8v6w8Rs",
        "outputId": "125bf9c0-3d1b-40fb-d764-fec559f0c33e"
      },
      "execution_count": 81,
      "outputs": [
        {
          "name": "stdout",
          "output_type": "stream",
          "text": [
            "Enter the type of book (e.g., novel, short story, etc.): novel\n",
            "Enter the title in your mind: I Feel Bad About My Neck\n"
          ]
        }
      ]
    },
    {
      "cell_type": "code",
      "source": [
        "\n",
        "# In a real scenario, this would be read from a file or other input source\n",
        "entire_input_data = \"\"\"\n",
        "I feel bad about my neck. Truly I do. If you saw my neck, you might feel bad about it too, but you’d probably be too polite to let on. If I said something to you on the subject—something like “I absolutely cannot stand my neck”—you’d undoubtedly respond by saying something nice, like “I don’t know what you’re talking about.” You’d be lying, of course, but I forgive you. I tell lies like that all the time—mostly to friends who tell me they’re upset because they have little pouches under their eyes, or jowls, or wrinkles, or flab around the middle, and do I think they should have an eye job, or a face-lift, or Botox, or liposuction. My experience is that “I don’t know what you’re talking about” is code for “I see what you mean, but if you think you’re going to trap me into engaging on this subject, you’re crazy.” It’s dangerous to engage on such subjects, and we all know it. Because if I said, “Yes, I see exactly what you mean,” my friend might go out and have her eyes done, for instance, and it might not work, and she might end up being one of those people you read about in tabloids who ends up in court suing their plastic surgeons because they can never close their eyes again. Furthermore, and this is the point: It would be All My Fault. I am particularly sensitive to the All My Fault aspect of things, since I have never forgiven one of my friends for telling me not to buy a perfectly good apartment on East Seventy-fifth Street in 1976.\n",
        "Sometimes I go out to lunch with my girlfriends—I got that far into the sentence and caught myself. I suppose I mean my women friends. We are no longer girls and have not been girls for forty years. Anyway, sometimes we go out to lunch and I look around the table and realize we’re all wearing turtleneck sweaters. Sometimes, instead, we’re all wearing scarves, like Katharine Hepburn in On Golden Pond. Sometimes we’re all wearing mandarin collars and look like a white ladies’ version of the Joy Luck Club. It’s sort of funny and it’s sort of sad, because we’re not neurotic about age —none of us lies about how old she is, for instance, and none of us dresses in a way that’s inappropriate for our years. We all look good for our age. Except for our necks.\n",
        "Oh, the necks. There are chicken necks. There are turkey gobbler necks. There are elephant necks. There are necks with wattles and necks with creases that are on the verge of becoming wattles. There are scrawny necks and fat necks, loose necks, crepey necks, banded necks, wrinkled necks, stringy necks, saggy necks, flabby necks, mottled necks. There are necks that are an amazing combination of all of the above. According to my dermatologist, the neck starts to go at forty-three, and that’s that. You can put makeup on your face and concealer under your eyes and dye on your hair, you can shoot collagen and Botox and Restylane into your wrinkles and creases, but short of surgery, there’s not a damn thing you can do about a neck. The neck is a dead giveaway. Our faces are lies and our necks are he truth. You have to cut open a redwood tree to see how old it is, but you wouldn’t have to if it had a neck.\n",
        "\n",
        "\"\"\""
      ],
      "metadata": {
        "id": "RV3VvyOwirkG"
      },
      "execution_count": 82,
      "outputs": []
    },
    {
      "cell_type": "markdown",
      "source": [
        "#Functions\n",
        "\n",
        "##summarize_paragraphs:\n",
        "\n",
        "Model: Gemini Flash\n",
        "\n",
        "Purpose: Summarizing all the previous paragraphs for making the model efficient\n",
        "\n",
        "\n",
        "##get_last_paragraph_and_summary\n",
        "\n",
        "For finding the last paragraph, paragraph number, and the previous paragraphs for the summarize function\n",
        "\n",
        "\n",
        "##Prompt\n",
        "\n",
        "The prompt being used for our Llama Model\n",
        "\n",
        "\n",
        "##jsonResponse:\n",
        "\n",
        "Extracting the json content from the Llama3"
      ],
      "metadata": {
        "id": "M9YGgbenyL-W"
      }
    },
    {
      "cell_type": "code",
      "source": [
        "def summarize_paragraphs(paragraphs, api_key):\n",
        "  \"\"\"\n",
        "  Summarizes a text paragraph using Gemini Flash (requires API key).\n",
        "\n",
        "  Args:\n",
        "      text: The text paragraph to summarize.\n",
        "      api_key: Your Google Generative AI API key.\n",
        "\n",
        "  Returns:\n",
        "      A string containing the summarized text.\n",
        "  \"\"\"\n",
        "\n",
        "  # Configure GenAI with your API key\n",
        "  genai.configure(api_key=api_key)\n",
        "\n",
        "  # Load the Gemini Flash model\n",
        "  model = genai.GenerativeModel('models/gemini-1.5-flash-latest')\n",
        "\n",
        "  # Define the prompt for summarization\n",
        "  prompt = f\"Summarize the following text: {paragraphs}\"\n",
        "\n",
        "  # Generate the summary using Gemini Flash\n",
        "  response = model.generate_content(prompt)\n",
        "\n",
        "  # Extract the summarized text from the response\n",
        "  summary = response.text.split(\"\\n\")[0].strip()  # Assuming first line is summary\n",
        "  return summary\n",
        "\n",
        "# Function to get the last paragraph (node) and its number from the entire input data\n",
        "def get_last_paragraph_and_summary(data):\n",
        "    paragraphs = data.strip().split('\\n')\n",
        "    last_paragraph = paragraphs[-1] if paragraphs else \"\"\n",
        "    previous_paragraphs = paragraphs[:-1] if len(paragraphs) > 1 else []\n",
        "    summary = summarize_paragraphs(previous_paragraphs, genaiAPI)\n",
        "    paragraph_number = len(paragraphs)\n",
        "    return summary, last_paragraph, paragraph_number\n",
        "\n",
        "\n",
        "# Extract the summary of previous paragraphs, the last paragraph (node), and its number\n",
        "summary, last_paragraph, paragraph_number = get_last_paragraph_and_summary(entire_input_data)\n",
        "\n",
        "# Define the input message for analysis, incorporating user inputs, the identified paragraph number, and the summary\n",
        "prompt = f\"\"\"\n",
        "I am writing a {book_type} and This is paragraph {paragraph_number}. The title in my mind is {book_title}.\n",
        "Here is a summary of the previous paragraphs: {summary}\n",
        "Analyse the last paragraph and give me ways to improve: {last_paragraph}.\n",
        "After analysing, give a json output for :\n",
        "'Overall interest' [A floating value out of 10],\n",
        "Vivid Rating [A floating value out of 10],\n",
        "Build up: [Strong, Weak, Average],\n",
        "Irregularities: [if any],\n",
        "References: [Some reference book titles and authors],\n",
        "Summary : (summary of the paragraph),\n",
        "Suggestions: ,\n",
        "Strengths,\n",
        "Weaknesses.\n",
        "\"\"\"\n",
        "\n",
        "\n",
        "# Request analysis and suggestions from the model\n",
        "stream = client.chat.completions.create(\n",
        "    model=\"meta-llama/Meta-Llama-3-70B-Instruct-Turbo\",\n",
        "    messages=[\n",
        "        {\"role\": \"user\", \"content\": prompt}\n",
        "    ],\n",
        "    stream=True,\n",
        ")\n",
        "\n",
        "# Initialize an empty string to store the response\n",
        "response=\"\"\n",
        "# Print the response from the model\n",
        "for chunk in stream:\n",
        "    response += chunk.choices[0].delta.content or \"\"\n",
        "    print(chunk.choices[0].delta.content or \"\", end=\"\", flush=True)"
      ],
      "metadata": {
        "colab": {
          "base_uri": "https://localhost:8080/",
          "height": 697
        },
        "id": "o2uIGPipy4Uk",
        "outputId": "18778a6e-640d-41c3-c595-e6418abc36cc"
      },
      "execution_count": 90,
      "outputs": [
        {
          "output_type": "stream",
          "name": "stdout",
          "text": [
            "Here's the analysis of the paragraph:\n",
            "\n",
            "**Overall interest: 8.5/10**\n",
            "The paragraph is engaging and humorous, with a relatable topic and vivid descriptions of different types of necks. The use of metaphors (e.g., \"chicken necks\", \"turkey gobbler necks\") adds to the entertainment value.\n",
            "\n",
            "**Vivid Rating: 9/10**\n",
            "The descriptions of necks are creative and evocative, making it easy for the reader to imagine the different types of necks. The use of alliteration (e.g., \"scrawny necks and fat necks\") adds to the vividness.\n",
            "\n",
            "**Build up: Strong**\n",
            "The paragraph builds up well, starting with a general statement about necks and then providing a list of different types of necks. The transition to the dermatologist's statement and the conclusion about the neck being a \"dead giveaway\" is smooth.\n",
            "\n",
            "**Irregularities: None**\n",
            "The paragraph is well-structured and easy to follow.\n",
            "\n",
            "**References:**\n",
            "* \"The Beauty Myth\" by Naomi Wolf (a book that explores the societal pressure on women to conform to beauty standards)\n",
            "* \"The Feminine Mystique\" by Betty Friedan (a classic feminist book that touches on the theme of women's bodies and aging)\n",
            "\n",
            "**Summary:**\n",
            "The paragraph humorously describes the various types of necks and how they are a giveaway of age. The author notes that while makeup and other beauty treatments can hide facial imperfections, the neck is a harder area to conceal.\n",
            "\n",
            "**Suggestions:**\n",
            "\n",
            "* Consider adding more sensory details to make the descriptions even more vivid. For example, you could describe the texture or color of the different types of necks.\n",
            "* You may want to vary your sentence structure to create a more dynamic rhythm. The paragraph is heavy on simple sentences; consider mixing in some compound or complex sentences to create more interest.\n",
            "* While the paragraph is humorous, it may be helpful to add a bit more depth or insight to make it feel more substantial.\n",
            "\n",
            "**Strengths:**\n",
            "\n",
            "* The paragraph is engaging and relatable, with a universal topic that many readers will identify with.\n",
            "* The use of metaphors and vivid descriptions adds to the humor and entertainment value.\n",
            "* The transition to the dermatologist's statement and the conclusion is smooth and logical.\n",
            "\n",
            "**Weaknesses:**\n",
            "\n",
            "* The paragraph may benefit from more varied sentence structure to create a more dynamic rhythm.\n",
            "* While the topic is relatable, it may be helpful to add more depth or insight to make the paragraph feel more substantial.\n",
            "* Some readers may find the focus on physical appearance and aging to be superficial or shallow."
          ]
        }
      ]
    },
    {
      "cell_type": "code",
      "source": [
        "def jsonResponse(response, api_key):\n",
        "\n",
        "  # Configure GenAI with your API key\n",
        "  genai.configure(api_key=api_key)\n",
        "\n",
        "  # Load the Gemini Flash model\n",
        "  model = genai.GenerativeModel('models/gemini-1.5-flash-latest')\n",
        "\n",
        "  # Define the prompt for summarization\n",
        "  prompt = f\"Make this {response} as a json with keys 'Overall interest','Vivid Rating','Build up','Irregularities','References' (Dont use any special characters here),'Summary','Suggestions','Strengths','Weaknesses'\"\n",
        "\n",
        "  # Generate the summary using Gemini Flash\n",
        "  response = model.generate_content(prompt)\n",
        "\n",
        "  jsonTry = response.text\n",
        "  return jsonTry\n",
        "\n",
        "# Function to get the last paragraph (node) and its number from the entire input data\n",
        "jsonRaw=jsonResponse(response, genaiAPI)\n",
        "jsonRaw=jsonRaw.replace(\"\\n\", \"\").replace(\"  \", \"\").replace(\"json\", \"\").replace(\"`\", \"\")\n",
        "jsonRaw"
      ],
      "metadata": {
        "colab": {
          "base_uri": "https://localhost:8080/",
          "height": 105
        },
        "id": "sYQnnNDxRHrd",
        "outputId": "f757f742-f217-4d51-ff90-b73ecba2f936"
      },
      "execution_count": 115,
      "outputs": [
        {
          "output_type": "execute_result",
          "data": {
            "text/plain": [
              "'{\"Overall interest\": \"8.5/10\",\"Vivid Rating\": \"9/10\",\"Build up\": \"Strong\",\"Irregularities\": \"None\",\"References\": \"The Beauty Myth by Naomi Wolf (a book that explores the societal pressure on women to conform to beauty standards)\\\\nThe Feminine Mystique by Betty Friedan (a classic feminist book that touches on the theme of women\\'s bodies and aging)\",\"Summary\": \"The paragraph humorously describes the various types of necks and how they are a giveaway of age. The author notes that while makeup and other beauty treatments can hide facial imperfections, the neck is a harder area to conceal.\",\"Suggestions\": \"Consider adding more sensory details to make the descriptions even more vivid. For example, you could describe the texture or color of the different types of necks.\\\\nYou may want to vary your sentence structure to create a more dynamic rhythm. The paragraph is heavy on simple sentences; consider mixing in some compound or complex sentences to create more interest.\\\\nWhile the paragraph is humorous, it may be helpful to add a bit more depth or insight to make it feel more substantial.\",\"Strengths\": \"The paragraph is engaging and relatable, with a universal topic that many readers will identify with.\\\\nThe use of metaphors and vivid descriptions adds to the humor and entertainment value.\\\\nThe transition to the dermatologist\\'s statement and the conclusion is smooth and logical.\",\"Weaknesses\": \"The paragraph may benefit from more varied sentence structure to create a more dynamic rhythm.\\\\nWhile the topic is relatable, it may be helpful to add more depth or insight to make the paragraph feel more substantial.\\\\nSome readers may find the focus on physical appearance and aging to be superficial or shallow.\"}'"
            ],
            "application/vnd.google.colaboratory.intrinsic+json": {
              "type": "string"
            }
          },
          "metadata": {},
          "execution_count": 115
        }
      ]
    },
    {
      "cell_type": "code",
      "source": [
        "jsonData=json.loads(jsonRaw)\n",
        "jsonData"
      ],
      "metadata": {
        "colab": {
          "base_uri": "https://localhost:8080/"
        },
        "id": "vQRFo_vqDYcb",
        "outputId": "bb12ed1a-053b-4614-d84d-99ee21264ca6"
      },
      "execution_count": 116,
      "outputs": [
        {
          "output_type": "execute_result",
          "data": {
            "text/plain": [
              "{'Overall interest': '8.5/10',\n",
              " 'Vivid Rating': '9/10',\n",
              " 'Build up': 'Strong',\n",
              " 'Irregularities': 'None',\n",
              " 'References': \"The Beauty Myth by Naomi Wolf (a book that explores the societal pressure on women to conform to beauty standards)\\nThe Feminine Mystique by Betty Friedan (a classic feminist book that touches on the theme of women's bodies and aging)\",\n",
              " 'Summary': 'The paragraph humorously describes the various types of necks and how they are a giveaway of age. The author notes that while makeup and other beauty treatments can hide facial imperfections, the neck is a harder area to conceal.',\n",
              " 'Suggestions': 'Consider adding more sensory details to make the descriptions even more vivid. For example, you could describe the texture or color of the different types of necks.\\nYou may want to vary your sentence structure to create a more dynamic rhythm. The paragraph is heavy on simple sentences; consider mixing in some compound or complex sentences to create more interest.\\nWhile the paragraph is humorous, it may be helpful to add a bit more depth or insight to make it feel more substantial.',\n",
              " 'Strengths': \"The paragraph is engaging and relatable, with a universal topic that many readers will identify with.\\nThe use of metaphors and vivid descriptions adds to the humor and entertainment value.\\nThe transition to the dermatologist's statement and the conclusion is smooth and logical.\",\n",
              " 'Weaknesses': 'The paragraph may benefit from more varied sentence structure to create a more dynamic rhythm.\\nWhile the topic is relatable, it may be helpful to add more depth or insight to make the paragraph feel more substantial.\\nSome readers may find the focus on physical appearance and aging to be superficial or shallow.'}"
            ]
          },
          "metadata": {},
          "execution_count": 116
        }
      ]
    }
  ]
}